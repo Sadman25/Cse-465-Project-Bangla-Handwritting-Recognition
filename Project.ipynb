{
 "cells": [
  {
   "cell_type": "code",
   "execution_count": 1,
   "source": [
    "#Importing Necessary Packages\r\n",
    "import pandas as pd\r\n",
    "import numpy as np\r\n",
    "import matplotlib.pyplot as plt\r\n",
    "import seaborn as sb\r\n",
    "import tensorflow as tf\r\n",
    "import keras, cv2, os\r\n",
    "from keras.models import Sequential\r\n",
    "from keras.layers import Dense, Dropout, Activation, Flatten, Conv2D, MaxPool2D,AveragePooling2D\r\n",
    "import pickle, random"
   ],
   "outputs": [
    {
     "output_type": "stream",
     "name": "stderr",
     "text": [
      "Using TensorFlow backend.\n"
     ]
    }
   ],
   "metadata": {}
  },
  {
   "cell_type": "code",
   "execution_count": 2,
   "source": [
    "CATEGORIES = []\r\n",
    "i = 1\r\n",
    "while i != 85:\r\n",
    "    CATEGORIES.append(str(i))\r\n",
    "    i= i+1\r\n",
    "\r\n",
    "print(CATEGORIES)"
   ],
   "outputs": [
    {
     "output_type": "stream",
     "name": "stdout",
     "text": [
      "['1', '2', '3', '4', '5', '6', '7', '8', '9', '10', '11', '12', '13', '14', '15', '16', '17', '18', '19', '20', '21', '22', '23', '24', '25', '26', '27', '28', '29', '30', '31', '32', '33', '34', '35', '36', '37', '38', '39', '40', '41', '42', '43', '44', '45', '46', '47', '48', '49', '50', '51', '52', '53', '54', '55', '56', '57', '58', '59', '60', '61', '62', '63', '64', '65', '66', '67', '68', '69', '70', '71', '72', '73', '74', '75', '76', '77', '78', '79', '80', '81', '82', '83', '84']\n"
     ]
    }
   ],
   "metadata": {}
  },
  {
   "cell_type": "code",
   "execution_count": null,
   "source": [
    "def create_grayscale_training_data(DATADIR,training_data,IMG_SIZE):\r\n",
    "    for catergoy in CATEGORIES:\r\n",
    "        path = os.path.join(DATADIR, catergoy) #path to cats and dogs\r\n",
    "        class_num = CATEGORIES.index(catergoy)\r\n",
    "        for img in os.listdir(path):\r\n",
    "            try:\r\n",
    "                img_array = cv2.imread(os.path.join(path,img),cv2.IMREAD_GRAYSCALE)\r\n",
    "                new_array = cv2.resize(img_array, (IMG_SIZE,IMG_SIZE))\r\n",
    "                training_data.append([new_array,class_num])\r\n",
    "            except Exception as e:\r\n",
    "                pass\r\n",
    "\r\n",
    "def create_rgb_training_data(DATADIR,training_data,IMG_SIZE):\r\n",
    "    for catergoy in CATEGORIES:\r\n",
    "        path = os.path.join(DATADIR, catergoy) #path to cats and dogs\r\n",
    "        class_num = CATEGORIES.index(catergoy)\r\n",
    "        for img in os.listdir(path):\r\n",
    "            try:\r\n",
    "                img_array = cv2.imread(os.path.join(path,img))\r\n",
    "                new_array = cv2.resize(img_array, (IMG_SIZE,IMG_SIZE))\r\n",
    "                training_data.append([new_array,class_num])\r\n",
    "            except Exception as e:\r\n",
    "                pass"
   ],
   "outputs": [],
   "metadata": {}
  },
  {
   "cell_type": "code",
   "execution_count": null,
   "source": [
    "DATADIR = \"D:\\Lectures\\Majors\\Cse 465\\Summer 2021\\Dataset\\BanglaLekha-Isolated Full Dataset\\Images\"\r\n",
    "training_data = []\r\n",
    "IMG_SIZE = 32"
   ],
   "outputs": [],
   "metadata": {}
  }
 ],
 "metadata": {
  "orig_nbformat": 4,
  "language_info": {
   "name": "python",
   "version": "3.7.11",
   "mimetype": "text/x-python",
   "codemirror_mode": {
    "name": "ipython",
    "version": 3
   },
   "pygments_lexer": "ipython3",
   "nbconvert_exporter": "python",
   "file_extension": ".py"
  },
  "kernelspec": {
   "name": "python3",
   "display_name": "Python 3.7.11 64-bit ('myenv': conda)"
  },
  "interpreter": {
   "hash": "70a84b5169c03d45fda6cf9e53aa2cfc831002eb26cbc04e85de1728a83883fe"
  }
 },
 "nbformat": 4,
 "nbformat_minor": 2
}