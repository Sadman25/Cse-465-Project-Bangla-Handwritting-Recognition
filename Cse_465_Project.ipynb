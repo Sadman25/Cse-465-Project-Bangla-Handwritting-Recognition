{
  "nbformat": 4,
  "nbformat_minor": 0,
  "metadata": {
    "accelerator": "GPU",
    "colab": {
      "name": "Cse 465 Project.ipynb",
      "provenance": [],
      "collapsed_sections": []
    },
    "kernelspec": {
      "display_name": "Python 3",
      "name": "python3"
    },
    "language_info": {
      "name": "python"
    }
  },
  "cells": [
    {
      "cell_type": "code",
      "metadata": {
        "colab": {
          "base_uri": "https://localhost:8080/"
        },
        "id": "ivpvKvBDc5DD",
        "outputId": "8c15aaf3-dbdb-4e61-c0eb-aed939e3133f"
      },
      "source": [
        "from google.colab import drive\n",
        "drive.mount('/content/drive')"
      ],
      "execution_count": null,
      "outputs": [
        {
          "output_type": "stream",
          "name": "stdout",
          "text": [
            "Drive already mounted at /content/drive; to attempt to forcibly remount, call drive.mount(\"/content/drive\", force_remount=True).\n"
          ]
        }
      ]
    },
    {
      "cell_type": "code",
      "metadata": {
        "id": "KpzHSGv54tQa"
      },
      "source": [
        "#Importing Necessary Packages\n",
        "import pandas as pd\n",
        "import numpy as np\n",
        "import matplotlib.pyplot as plt\n",
        "import seaborn as sb\n",
        "import tensorflow as tf\n",
        "import keras, cv2, os\n",
        "from keras.models import Sequential\n",
        "from keras.layers import Dense, Dropout, Activation, Flatten, Conv2D, MaxPool2D,AveragePooling2D, BatchNormalization\n",
        "from keras import regularizers\n",
        "from keras.layers.core import Dropout\n",
        "import pickle, random"
      ],
      "execution_count": null,
      "outputs": []
    },
    {
      "cell_type": "code",
      "metadata": {
        "id": "QLA5t6yc5ojd"
      },
      "source": [
        "def create_grayscale_training_data(DATADIR,CATEGORIES,training_data,IMG_SIZE):\n",
        "    for catergoy in CATEGORIES:\n",
        "        path = os.path.join(DATADIR, catergoy) #path to cats and dogs\n",
        "        class_num = CATEGORIES.index(catergoy)\n",
        "        for img in os.listdir(path):\n",
        "            try:\n",
        "                img_array = cv2.imread(os.path.join(path,img),cv2.IMREAD_GRAYSCALE)\n",
        "                new_array = cv2.resize(img_array, (IMG_SIZE,IMG_SIZE))\n",
        "                training_data.append([new_array,class_num])\n",
        "            except Exception as e:\n",
        "                pass\n",
        "\n",
        "def create_rgb_training_data(DATADIR,CATEGORIES,training_data,IMG_SIZE):\n",
        "    for catergoy in CATEGORIES:\n",
        "        path = os.path.join(DATADIR, catergoy) #path to cats and dogs\n",
        "        class_num = CATEGORIES.index(catergoy)\n",
        "        for img in os.listdir(path):\n",
        "            try:\n",
        "                img_array = cv2.imread(os.path.join(path,img))\n",
        "                new_array = cv2.resize(img_array, (IMG_SIZE,IMG_SIZE))\n",
        "                training_data.append([new_array,class_num])\n",
        "            except Exception as e:\n",
        "                pass"
      ],
      "execution_count": null,
      "outputs": []
    },
    {
      "cell_type": "markdown",
      "metadata": {
        "id": "JlbThQ70YPpZ"
      },
      "source": [
        "# Converting Images into GrayScale "
      ]
    },
    {
      "cell_type": "code",
      "metadata": {
        "id": "SEBku6FoYaGX"
      },
      "source": [
        "DATADIR = \"/content/drive/MyDrive/Cse465_Dataset_3k_Images\"\n",
        "grayscale_training_data = []\n",
        "IMG_SIZE = 32\n",
        "CATEGORIES = []\n",
        "i = 1\n",
        "while i != 61:\n",
        "    CATEGORIES.append(str(i))\n",
        "    i= i+1"
      ],
      "execution_count": null,
      "outputs": []
    },
    {
      "cell_type": "code",
      "metadata": {
        "id": "Rsfj1U4wYbbv",
        "colab": {
          "base_uri": "https://localhost:8080/"
        },
        "outputId": "ff5ebed4-766f-4d54-9036-1f35a5d62106"
      },
      "source": [
        "create_grayscale_training_data(DATADIR,CATEGORIES,grayscale_training_data,IMG_SIZE)\n",
        "random.shuffle(grayscale_training_data)\n",
        "print(len(grayscale_training_data))"
      ],
      "execution_count": null,
      "outputs": [
        {
          "output_type": "stream",
          "name": "stdout",
          "text": [
            "3000\n"
          ]
        }
      ]
    },
    {
      "cell_type": "code",
      "metadata": {
        "id": "KoUgHS3sYdlX"
      },
      "source": [
        "X = []\n",
        "y = []\n",
        "for features, label in grayscale_training_data:\n",
        "    X.append(features)\n",
        "    y.append(label)\n",
        "\n",
        "X = np.array(X).reshape(-1, IMG_SIZE, IMG_SIZE,1)"
      ],
      "execution_count": null,
      "outputs": []
    },
    {
      "cell_type": "code",
      "metadata": {
        "id": "CAQqrt2KYePa"
      },
      "source": [
        "pickle_out = open(\"GrayScaleDataset.pickle\", \"wb\")\n",
        "pickle.dump(X, pickle_out)\n",
        "pickle_out.close()\n",
        "\n",
        "pickle_out = open(\"GrayScaleLabels.pickle\", \"wb\")\n",
        "pickle.dump(y, pickle_out)\n",
        "pickle_out.close()"
      ],
      "execution_count": null,
      "outputs": []
    },
    {
      "cell_type": "code",
      "metadata": {
        "id": "YryEjKm3YhKo"
      },
      "source": [
        "pickle_in = open(\"/content/drive/MyDrive/Pickled Data/GrayScaleDataset.pickle\",\"rb\")\n",
        "X = pickle.load(pickle_in)\n",
        "\n",
        "pickle_in = open(\"/content/drive/MyDrive/Pickled Data/GrayScaleLabels.pickle\",\"rb\")\n",
        "y = pickle.load(pickle_in)"
      ],
      "execution_count": null,
      "outputs": []
    },
    {
      "cell_type": "code",
      "metadata": {
        "colab": {
          "base_uri": "https://localhost:8080/"
        },
        "id": "paVtuICpYj7x",
        "outputId": "afb99062-f89e-4ba4-e103-9ff355d18f99"
      },
      "source": [
        "X= X/255  #Normalize Training Data\n",
        "y = np.array(y)\n",
        "X.shape"
      ],
      "execution_count": null,
      "outputs": [
        {
          "output_type": "execute_result",
          "data": {
            "text/plain": [
              "(3000, 32, 32, 1)"
            ]
          },
          "metadata": {},
          "execution_count": 5
        }
      ]
    },
    {
      "cell_type": "markdown",
      "metadata": {
        "id": "33S6Xvwko0Cf"
      },
      "source": [
        "# ANN\n"
      ]
    },
    {
      "cell_type": "code",
      "metadata": {
        "id": "5naEw8thS86P",
        "colab": {
          "base_uri": "https://localhost:8080/"
        },
        "outputId": "ad458568-2fa2-452b-bf4e-4027229dc5ca"
      },
      "source": [
        "ann = Sequential([\n",
        "    Flatten(input_shape = X.shape[1:]),\n",
        "    Dense(300,activation='relu'),\n",
        "    Dropout(0.5),\n",
        "    Dense(200,activation='relu'),\n",
        "    Dropout(0.5),\n",
        "    Dense(60,activation='softmax')\n",
        "])\n",
        "\n",
        "ann.compile(optimizer='adam',\n",
        "            loss = 'sparse_categorical_crossentropy',\n",
        "            metrics=['accuracy'])\n",
        "\n",
        "ann_history= ann.fit (X, y, epochs=25,batch_size=32,validation_split=0.1)"
      ],
      "execution_count": null,
      "outputs": [
        {
          "output_type": "stream",
          "name": "stdout",
          "text": [
            "Epoch 1/25\n",
            "85/85 [==============================] - 1s 6ms/step - loss: 4.0711 - accuracy: 0.0356 - val_loss: 3.7723 - val_accuracy: 0.0833\n",
            "Epoch 2/25\n",
            "85/85 [==============================] - 0s 4ms/step - loss: 3.5651 - accuracy: 0.1226 - val_loss: 3.1699 - val_accuracy: 0.2433\n",
            "Epoch 3/25\n",
            "85/85 [==============================] - 0s 4ms/step - loss: 3.1091 - accuracy: 0.1996 - val_loss: 2.7863 - val_accuracy: 0.3333\n",
            "Epoch 4/25\n",
            "85/85 [==============================] - 0s 4ms/step - loss: 2.7386 - accuracy: 0.2774 - val_loss: 2.5336 - val_accuracy: 0.3633\n",
            "Epoch 5/25\n",
            "85/85 [==============================] - 0s 4ms/step - loss: 2.4483 - accuracy: 0.3356 - val_loss: 2.3640 - val_accuracy: 0.4033\n",
            "Epoch 6/25\n",
            "85/85 [==============================] - 0s 4ms/step - loss: 2.1914 - accuracy: 0.3937 - val_loss: 2.2521 - val_accuracy: 0.4300\n",
            "Epoch 7/25\n",
            "85/85 [==============================] - 0s 4ms/step - loss: 2.0300 - accuracy: 0.4344 - val_loss: 2.1896 - val_accuracy: 0.4367\n",
            "Epoch 8/25\n",
            "85/85 [==============================] - 0s 4ms/step - loss: 1.8716 - accuracy: 0.4700 - val_loss: 2.1298 - val_accuracy: 0.4500\n",
            "Epoch 9/25\n",
            "85/85 [==============================] - 0s 4ms/step - loss: 1.7175 - accuracy: 0.5000 - val_loss: 2.1087 - val_accuracy: 0.4467\n",
            "Epoch 10/25\n",
            "85/85 [==============================] - 0s 4ms/step - loss: 1.5542 - accuracy: 0.5522 - val_loss: 2.0723 - val_accuracy: 0.4333\n",
            "Epoch 11/25\n",
            "85/85 [==============================] - 0s 4ms/step - loss: 1.4341 - accuracy: 0.5907 - val_loss: 2.0428 - val_accuracy: 0.4567\n",
            "Epoch 12/25\n",
            "85/85 [==============================] - 0s 4ms/step - loss: 1.3069 - accuracy: 0.6204 - val_loss: 2.0236 - val_accuracy: 0.4667\n",
            "Epoch 13/25\n",
            "85/85 [==============================] - 0s 4ms/step - loss: 1.1710 - accuracy: 0.6493 - val_loss: 2.0256 - val_accuracy: 0.4700\n",
            "Epoch 14/25\n",
            "85/85 [==============================] - 0s 4ms/step - loss: 1.1354 - accuracy: 0.6544 - val_loss: 2.0459 - val_accuracy: 0.4800\n",
            "Epoch 15/25\n",
            "85/85 [==============================] - 0s 4ms/step - loss: 1.0477 - accuracy: 0.6978 - val_loss: 2.0327 - val_accuracy: 0.4800\n",
            "Epoch 16/25\n",
            "85/85 [==============================] - 0s 4ms/step - loss: 0.9733 - accuracy: 0.7126 - val_loss: 2.0124 - val_accuracy: 0.4733\n",
            "Epoch 17/25\n",
            "85/85 [==============================] - 0s 4ms/step - loss: 0.8820 - accuracy: 0.7330 - val_loss: 2.0717 - val_accuracy: 0.4700\n",
            "Epoch 18/25\n",
            "85/85 [==============================] - 0s 4ms/step - loss: 0.8134 - accuracy: 0.7541 - val_loss: 2.0748 - val_accuracy: 0.4933\n",
            "Epoch 19/25\n",
            "85/85 [==============================] - 0s 4ms/step - loss: 0.8198 - accuracy: 0.7463 - val_loss: 2.1113 - val_accuracy: 0.4833\n",
            "Epoch 20/25\n",
            "85/85 [==============================] - 0s 4ms/step - loss: 0.7664 - accuracy: 0.7719 - val_loss: 2.0642 - val_accuracy: 0.4600\n",
            "Epoch 21/25\n",
            "85/85 [==============================] - 0s 4ms/step - loss: 0.6941 - accuracy: 0.7919 - val_loss: 2.1279 - val_accuracy: 0.4633\n",
            "Epoch 22/25\n",
            "85/85 [==============================] - 0s 4ms/step - loss: 0.6787 - accuracy: 0.7930 - val_loss: 2.1719 - val_accuracy: 0.4767\n",
            "Epoch 23/25\n",
            "85/85 [==============================] - 0s 4ms/step - loss: 0.6127 - accuracy: 0.8189 - val_loss: 2.1700 - val_accuracy: 0.4767\n",
            "Epoch 24/25\n",
            "85/85 [==============================] - 0s 4ms/step - loss: 0.6416 - accuracy: 0.7959 - val_loss: 2.1288 - val_accuracy: 0.4633\n",
            "Epoch 25/25\n",
            "85/85 [==============================] - 0s 4ms/step - loss: 0.5796 - accuracy: 0.8159 - val_loss: 2.2110 - val_accuracy: 0.4700\n"
          ]
        }
      ]
    },
    {
      "cell_type": "code",
      "metadata": {
        "id": "hxNEB7AdpQAk",
        "colab": {
          "base_uri": "https://localhost:8080/",
          "height": 295
        },
        "outputId": "f354995f-badf-4f60-8ea5-7c2c259e7a74"
      },
      "source": [
        "#Accuracy\n",
        "plt.plot(ann_history.history['accuracy'])\n",
        "plt.plot(ann_history.history['val_accuracy'])\n",
        "plt.title('ANN model accuracy')\n",
        "plt.ylabel('accuracy')\n",
        "plt.xlabel('epoch')\n",
        "plt.legend(['train', 'validation'], loc='upper left')\n",
        "plt.plot(figsize=(8,5))\n",
        "#plt.savefig('ANN Model Accuracy')\n",
        "plt.show()"
      ],
      "execution_count": null,
      "outputs": [
        {
          "output_type": "display_data",
          "data": {
            "image/png": "[encoded data removed]",
            "text/plain": [
              "<Figure size 432x288 with 1 Axes>"
            ]
          },
          "metadata": {
            "needs_background": "light"
          }
        }
      ]
    },
    {
      "cell_type": "code",
      "metadata": {
        "id": "0qzpDB-zpS9S",
        "colab": {
          "base_uri": "https://localhost:8080/",
          "height": 295
        },
        "outputId": "c04b5f6e-1a7a-429f-b398-4c81d2d3fff5"
      },
      "source": [
        "# \"Loss\"\n",
        "plt.plot(ann_history.history['loss'])\n",
        "plt.plot(ann_history.history['val_loss'])\n",
        "plt.title('ANN model loss')\n",
        "plt.ylabel('loss')\n",
        "plt.xlabel('epoch')\n",
        "plt.legend(['train', 'validation'], loc='upper left')\n",
        "#plt.savefig('ANN Model Loss')\n",
        "plt.show()"
      ],
      "execution_count": null,
      "outputs": [
        {
          "output_type": "display_data",
          "data": {
            "image/png": "[encoded data removed]",
            "text/plain": [
              "<Figure size 432x288 with 1 Axes>"
            ]
          },
          "metadata": {
            "needs_background": "light"
          }
        }
      ]
    },
    {
      "cell_type": "markdown",
      "metadata": {
        "id": "HaGBdO8ic8Sq"
      },
      "source": [
        "# Simple CNN"
      ]
    },
    {
      "cell_type": "code",
      "metadata": {
        "colab": {
          "base_uri": "https://localhost:8080/"
        },
        "id": "FJz0vEuRdATZ",
        "outputId": "80a66b17-9d4d-4853-a835-259befe1a760"
      },
      "source": [
        "cnn = Sequential([\n",
        "\n",
        "#Cnn\n",
        "Conv2D(filters=64, kernel_size=(3,3), activation='relu', input_shape=X.shape[1:]),\n",
        "BatchNormalization(),\n",
        "MaxPool2D((2,2)),\n",
        "\n",
        "Conv2D(filters=32, kernel_size=(3,3), activation='relu'),\n",
        "BatchNormalization(),\n",
        "MaxPool2D((2,2)),\n",
        "\n",
        "#dense\n",
        "Flatten(),\n",
        "Dense(300,activation='relu'),\n",
        "Dropout(0.5),\n",
        "Dense(200,activation='relu'),\n",
        "Dropout(0.5),\n",
        "Dense(60,activation='softmax')\n",
        "])\n",
        "\n",
        "cnn.compile(optimizer='adam',\n",
        "            loss = 'sparse_categorical_crossentropy',\n",
        "            metrics=['accuracy'])\n",
        "\n",
        "cnn_history= cnn.fit(X,y,epochs=30,batch_size=64,validation_split=0.1)"
      ],
      "execution_count": null,
      "outputs": [
        {
          "output_type": "stream",
          "name": "stdout",
          "text": [
            "Epoch 1/30\n",
            "43/43 [==============================] - 1s 16ms/step - loss: 4.3737 - accuracy: 0.0411 - val_loss: 3.9968 - val_accuracy: 0.0633\n",
            "Epoch 2/30\n",
            "43/43 [==============================] - 0s 10ms/step - loss: 3.6915 - accuracy: 0.1215 - val_loss: 4.3194 - val_accuracy: 0.0233\n",
            "Epoch 3/30\n",
            "43/43 [==============================] - 0s 10ms/step - loss: 3.3320 - accuracy: 0.1867 - val_loss: 5.2730 - val_accuracy: 0.0233\n",
            "Epoch 4/30\n",
            "43/43 [==============================] - 0s 10ms/step - loss: 3.0557 - accuracy: 0.2267 - val_loss: 6.5112 - val_accuracy: 0.0133\n",
            "Epoch 5/30\n",
            "43/43 [==============================] - 0s 10ms/step - loss: 2.7713 - accuracy: 0.2833 - val_loss: 7.6091 - val_accuracy: 0.0133\n",
            "Epoch 6/30\n",
            "43/43 [==============================] - 0s 10ms/step - loss: 2.5370 - accuracy: 0.3248 - val_loss: 7.0997 - val_accuracy: 0.0267\n",
            "Epoch 7/30\n",
            "43/43 [==============================] - 0s 10ms/step - loss: 2.3017 - accuracy: 0.3696 - val_loss: 7.1168 - val_accuracy: 0.0400\n",
            "Epoch 8/30\n",
            "43/43 [==============================] - 0s 10ms/step - loss: 2.0917 - accuracy: 0.4219 - val_loss: 6.8945 - val_accuracy: 0.0400\n",
            "Epoch 9/30\n",
            "43/43 [==============================] - 0s 10ms/step - loss: 1.8816 - accuracy: 0.4630 - val_loss: 5.9487 - val_accuracy: 0.0933\n",
            "Epoch 10/30\n",
            "43/43 [==============================] - 0s 10ms/step - loss: 1.6982 - accuracy: 0.5115 - val_loss: 4.1680 - val_accuracy: 0.1767\n",
            "Epoch 11/30\n",
            "43/43 [==============================] - 0s 10ms/step - loss: 1.5415 - accuracy: 0.5396 - val_loss: 2.8811 - val_accuracy: 0.2967\n",
            "Epoch 12/30\n",
            "43/43 [==============================] - 0s 9ms/step - loss: 1.4602 - accuracy: 0.5641 - val_loss: 2.1132 - val_accuracy: 0.4233\n",
            "Epoch 13/30\n",
            "43/43 [==============================] - 0s 9ms/step - loss: 1.3715 - accuracy: 0.5874 - val_loss: 1.6780 - val_accuracy: 0.5200\n",
            "Epoch 14/30\n",
            "43/43 [==============================] - 0s 10ms/step - loss: 1.2439 - accuracy: 0.6248 - val_loss: 1.4981 - val_accuracy: 0.5933\n",
            "Epoch 15/30\n",
            "43/43 [==============================] - 0s 10ms/step - loss: 1.1356 - accuracy: 0.6504 - val_loss: 1.3713 - val_accuracy: 0.6567\n",
            "Epoch 16/30\n",
            "43/43 [==============================] - 0s 10ms/step - loss: 1.0637 - accuracy: 0.6756 - val_loss: 1.2195 - val_accuracy: 0.6767\n",
            "Epoch 17/30\n",
            "43/43 [==============================] - 0s 10ms/step - loss: 0.9542 - accuracy: 0.7000 - val_loss: 1.1318 - val_accuracy: 0.7233\n",
            "Epoch 18/30\n",
            "43/43 [==============================] - 0s 10ms/step - loss: 0.9311 - accuracy: 0.7104 - val_loss: 1.1556 - val_accuracy: 0.6733\n",
            "Epoch 19/30\n",
            "43/43 [==============================] - 0s 10ms/step - loss: 0.8604 - accuracy: 0.7259 - val_loss: 1.1137 - val_accuracy: 0.6900\n",
            "Epoch 20/30\n",
            "43/43 [==============================] - 0s 9ms/step - loss: 0.7940 - accuracy: 0.7478 - val_loss: 1.0884 - val_accuracy: 0.6933\n",
            "Epoch 21/30\n",
            "43/43 [==============================] - 0s 10ms/step - loss: 0.7478 - accuracy: 0.7578 - val_loss: 1.0807 - val_accuracy: 0.7033\n",
            "Epoch 22/30\n",
            "43/43 [==============================] - 0s 10ms/step - loss: 0.7068 - accuracy: 0.7763 - val_loss: 1.0934 - val_accuracy: 0.6867\n",
            "Epoch 23/30\n",
            "43/43 [==============================] - 0s 10ms/step - loss: 0.7001 - accuracy: 0.7726 - val_loss: 1.0865 - val_accuracy: 0.6933\n",
            "Epoch 24/30\n",
            "43/43 [==============================] - 0s 10ms/step - loss: 0.7230 - accuracy: 0.7726 - val_loss: 1.1506 - val_accuracy: 0.6833\n",
            "Epoch 25/30\n",
            "43/43 [==============================] - 0s 10ms/step - loss: 0.6398 - accuracy: 0.7930 - val_loss: 1.0988 - val_accuracy: 0.7100\n",
            "Epoch 26/30\n",
            "43/43 [==============================] - 0s 10ms/step - loss: 0.6353 - accuracy: 0.7944 - val_loss: 1.0908 - val_accuracy: 0.7033\n",
            "Epoch 27/30\n",
            "43/43 [==============================] - 0s 10ms/step - loss: 0.5720 - accuracy: 0.8189 - val_loss: 1.0869 - val_accuracy: 0.6933\n",
            "Epoch 28/30\n",
            "43/43 [==============================] - 0s 10ms/step - loss: 0.4999 - accuracy: 0.8348 - val_loss: 1.1082 - val_accuracy: 0.6867\n",
            "Epoch 29/30\n",
            "43/43 [==============================] - 0s 10ms/step - loss: 0.5185 - accuracy: 0.8367 - val_loss: 1.0983 - val_accuracy: 0.6967\n",
            "Epoch 30/30\n",
            "43/43 [==============================] - 0s 10ms/step - loss: 0.4945 - accuracy: 0.8441 - val_loss: 1.0932 - val_accuracy: 0.7200\n"
          ]
        }
      ]
    },
    {
      "cell_type": "code",
      "metadata": {
        "colab": {
          "base_uri": "https://localhost:8080/",
          "height": 295
        },
        "id": "8utig9_PdDvp",
        "outputId": "bf999e2d-0e01-4d17-bdd5-7404770d37df"
      },
      "source": [
        "#Accuracy\n",
        "plt.plot(cnn_history.history['accuracy'])\n",
        "plt.plot(cnn_history.history['val_accuracy'])\n",
        "plt.title('Simple CNN model accuracy')\n",
        "plt.ylabel('accuracy')\n",
        "plt.xlabel('epoch')\n",
        "plt.legend(['train', 'validation'], loc='upper left')\n",
        "plt.savefig('Simple CNN Model Accuracy')\n",
        "plt.show()"
      ],
      "execution_count": null,
      "outputs": [
        {
          "output_type": "display_data",
          "data": {
            "image/png": "[encoded data removed]",
            "text/plain": [
              "<Figure size 432x288 with 1 Axes>"
            ]
          },
          "metadata": {
            "needs_background": "light"
          }
        }
      ]
    },
    {
      "cell_type": "code",
      "metadata": {
        "colab": {
          "base_uri": "https://localhost:8080/",
          "height": 295
        },
        "id": "fGjlxFCUdGpJ",
        "outputId": "dd339284-0433-4e09-d380-d819950f10d6"
      },
      "source": [
        "# \"Loss\"\n",
        "plt.plot(cnn_history.history['loss'])\n",
        "plt.plot(cnn_history.history['val_loss'])\n",
        "plt.title('Simple CNN model loss')\n",
        "plt.ylabel('loss')\n",
        "plt.xlabel('epoch')\n",
        "plt.legend(['train', 'validation'], loc='upper left')\n",
        "plt.savefig('Simple CNN Model Loss')\n",
        "plt.show()"
      ],
      "execution_count": null,
      "outputs": [
        {
          "output_type": "display_data",
          "data": {
            "image/png": "[encoded data removed]",
            "text/plain": [
              "<Figure size 432x288 with 1 Axes>"
            ]
          },
          "metadata": {
            "needs_background": "light"
          }
        }
      ]
    },
    {
      "cell_type": "markdown",
      "metadata": {
        "id": "Sdrf1iyDfYe7"
      },
      "source": [
        "# Lenet5"
      ]
    },
    {
      "cell_type": "code",
      "metadata": {
        "colab": {
          "base_uri": "https://localhost:8080/"
        },
        "id": "AfLZKF3gwrNg",
        "outputId": "74cf18d2-05c2-4442-85b3-54da01ce4b92"
      },
      "source": [
        "#Lenet5\n",
        "\n",
        "Lenet5= Sequential([\n",
        "    Conv2D(6, kernel_size=(5,5),strides=1,padding='same',activation='tanh',input_shape=X.shape[1:]), #C1\n",
        "    BatchNormalization(),\n",
        "    AveragePooling2D(),\n",
        "    Conv2D(16,kernel_size=(5,5),strides=1,activation='tanh',padding='valid'),\n",
        "    BatchNormalization(),\n",
        "    AveragePooling2D(),\n",
        "\n",
        "\n",
        "    Flatten(),\n",
        "    Dense(120,activation='tanh',kernel_regularizer=regularizers.l2(0.05)),\n",
        "    Dropout(0.2),\n",
        "    Dense(84,activation='tanh',kernel_regularizer=regularizers.l2(0.05)),\n",
        "    Dropout(0.2),\n",
        "    Dense(60,activation='softmax'),\n",
        "])\n",
        "\n",
        "Lenet5.compile(optimizer='adam',\n",
        "            loss = 'sparse_categorical_crossentropy',\n",
        "            metrics=['accuracy'])\n",
        "\n",
        "Lenet5_history= Lenet5.fit(X,y,epochs=50,batch_size=64,validation_split=0.1)"
      ],
      "execution_count": null,
      "outputs": [
        {
          "output_type": "stream",
          "name": "stdout",
          "text": [
            "Epoch 1/50\n",
            "43/43 [==============================] - 1s 14ms/step - loss: 14.0433 - accuracy: 0.0974 - val_loss: 10.0622 - val_accuracy: 0.1700\n",
            "Epoch 2/50\n",
            "43/43 [==============================] - 0s 7ms/step - loss: 7.5106 - accuracy: 0.2604 - val_loss: 6.1558 - val_accuracy: 0.2300\n",
            "Epoch 3/50\n",
            "43/43 [==============================] - 0s 7ms/step - loss: 4.9132 - accuracy: 0.2859 - val_loss: 4.5531 - val_accuracy: 0.2633\n",
            "Epoch 4/50\n",
            "43/43 [==============================] - 0s 8ms/step - loss: 3.8761 - accuracy: 0.3178 - val_loss: 3.8494 - val_accuracy: 0.3067\n",
            "Epoch 5/50\n",
            "43/43 [==============================] - 0s 7ms/step - loss: 3.4365 - accuracy: 0.3274 - val_loss: 3.5784 - val_accuracy: 0.2500\n",
            "Epoch 6/50\n",
            "43/43 [==============================] - 0s 7ms/step - loss: 3.1995 - accuracy: 0.3433 - val_loss: 3.3331 - val_accuracy: 0.3067\n",
            "Epoch 7/50\n",
            "43/43 [==============================] - 0s 7ms/step - loss: 3.0591 - accuracy: 0.3581 - val_loss: 3.2410 - val_accuracy: 0.2900\n",
            "Epoch 8/50\n",
            "43/43 [==============================] - 0s 8ms/step - loss: 2.9652 - accuracy: 0.3648 - val_loss: 3.1716 - val_accuracy: 0.3200\n",
            "Epoch 9/50\n",
            "43/43 [==============================] - 0s 7ms/step - loss: 2.8898 - accuracy: 0.3915 - val_loss: 3.2423 - val_accuracy: 0.2500\n",
            "Epoch 10/50\n",
            "43/43 [==============================] - 0s 7ms/step - loss: 2.8071 - accuracy: 0.4144 - val_loss: 3.0333 - val_accuracy: 0.3467\n",
            "Epoch 11/50\n",
            "43/43 [==============================] - 0s 7ms/step - loss: 2.7434 - accuracy: 0.4189 - val_loss: 3.1575 - val_accuracy: 0.2967\n",
            "Epoch 12/50\n",
            "43/43 [==============================] - 0s 7ms/step - loss: 2.6682 - accuracy: 0.4411 - val_loss: 2.8773 - val_accuracy: 0.4167\n",
            "Epoch 13/50\n",
            "43/43 [==============================] - 0s 7ms/step - loss: 2.6045 - accuracy: 0.4611 - val_loss: 2.7994 - val_accuracy: 0.4067\n",
            "Epoch 14/50\n",
            "43/43 [==============================] - 0s 7ms/step - loss: 2.5338 - accuracy: 0.4670 - val_loss: 2.7853 - val_accuracy: 0.4400\n",
            "Epoch 15/50\n",
            "43/43 [==============================] - 0s 7ms/step - loss: 2.4622 - accuracy: 0.4978 - val_loss: 2.7457 - val_accuracy: 0.4200\n",
            "Epoch 16/50\n",
            "43/43 [==============================] - 0s 7ms/step - loss: 2.4031 - accuracy: 0.5063 - val_loss: 2.7459 - val_accuracy: 0.4300\n",
            "Epoch 17/50\n",
            "43/43 [==============================] - 0s 7ms/step - loss: 2.3486 - accuracy: 0.5270 - val_loss: 2.6982 - val_accuracy: 0.4233\n",
            "Epoch 18/50\n",
            "43/43 [==============================] - 0s 7ms/step - loss: 2.2877 - accuracy: 0.5441 - val_loss: 2.8798 - val_accuracy: 0.3900\n",
            "Epoch 19/50\n",
            "43/43 [==============================] - 0s 7ms/step - loss: 2.2277 - accuracy: 0.5704 - val_loss: 2.9624 - val_accuracy: 0.3433\n",
            "Epoch 20/50\n",
            "43/43 [==============================] - 0s 7ms/step - loss: 2.2080 - accuracy: 0.5604 - val_loss: 3.1695 - val_accuracy: 0.2833\n",
            "Epoch 21/50\n",
            "43/43 [==============================] - 0s 7ms/step - loss: 2.1545 - accuracy: 0.5930 - val_loss: 3.1460 - val_accuracy: 0.2800\n",
            "Epoch 22/50\n",
            "43/43 [==============================] - 0s 7ms/step - loss: 2.0855 - accuracy: 0.6133 - val_loss: 3.1051 - val_accuracy: 0.3300\n",
            "Epoch 23/50\n",
            "43/43 [==============================] - 0s 7ms/step - loss: 2.0463 - accuracy: 0.6156 - val_loss: 2.7482 - val_accuracy: 0.3967\n",
            "Epoch 24/50\n",
            "43/43 [==============================] - 0s 7ms/step - loss: 2.0094 - accuracy: 0.6307 - val_loss: 2.7075 - val_accuracy: 0.4233\n",
            "Epoch 25/50\n",
            "43/43 [==============================] - 0s 7ms/step - loss: 1.9726 - accuracy: 0.6378 - val_loss: 2.7038 - val_accuracy: 0.4033\n",
            "Epoch 26/50\n",
            "43/43 [==============================] - 0s 7ms/step - loss: 1.9278 - accuracy: 0.6478 - val_loss: 2.5933 - val_accuracy: 0.4300\n",
            "Epoch 27/50\n",
            "43/43 [==============================] - 0s 7ms/step - loss: 1.9076 - accuracy: 0.6644 - val_loss: 2.4617 - val_accuracy: 0.4967\n",
            "Epoch 28/50\n",
            "43/43 [==============================] - 0s 7ms/step - loss: 1.8645 - accuracy: 0.6793 - val_loss: 2.2782 - val_accuracy: 0.5300\n",
            "Epoch 29/50\n",
            "43/43 [==============================] - 0s 7ms/step - loss: 1.8502 - accuracy: 0.6641 - val_loss: 2.3215 - val_accuracy: 0.5100\n",
            "Epoch 30/50\n",
            "43/43 [==============================] - 0s 7ms/step - loss: 1.7972 - accuracy: 0.6848 - val_loss: 2.1251 - val_accuracy: 0.5767\n",
            "Epoch 31/50\n",
            "43/43 [==============================] - 0s 7ms/step - loss: 1.7774 - accuracy: 0.6878 - val_loss: 2.1162 - val_accuracy: 0.5800\n",
            "Epoch 32/50\n",
            "43/43 [==============================] - 0s 7ms/step - loss: 1.7341 - accuracy: 0.7022 - val_loss: 2.0075 - val_accuracy: 0.6100\n",
            "Epoch 33/50\n",
            "43/43 [==============================] - 0s 7ms/step - loss: 1.6861 - accuracy: 0.7256 - val_loss: 2.0163 - val_accuracy: 0.6033\n",
            "Epoch 34/50\n",
            "43/43 [==============================] - 0s 7ms/step - loss: 1.6849 - accuracy: 0.7259 - val_loss: 2.0672 - val_accuracy: 0.6067\n",
            "Epoch 35/50\n",
            "43/43 [==============================] - 0s 7ms/step - loss: 1.6630 - accuracy: 0.7237 - val_loss: 1.9646 - val_accuracy: 0.6233\n",
            "Epoch 36/50\n",
            "43/43 [==============================] - 0s 7ms/step - loss: 1.6306 - accuracy: 0.7285 - val_loss: 1.9771 - val_accuracy: 0.6000\n",
            "Epoch 37/50\n",
            "43/43 [==============================] - 0s 7ms/step - loss: 1.6292 - accuracy: 0.7356 - val_loss: 2.0287 - val_accuracy: 0.5933\n",
            "Epoch 38/50\n",
            "43/43 [==============================] - 0s 7ms/step - loss: 1.5810 - accuracy: 0.7426 - val_loss: 1.8863 - val_accuracy: 0.6433\n",
            "Epoch 39/50\n",
            "43/43 [==============================] - 0s 7ms/step - loss: 1.5546 - accuracy: 0.7544 - val_loss: 1.9264 - val_accuracy: 0.6367\n",
            "Epoch 40/50\n",
            "43/43 [==============================] - 0s 7ms/step - loss: 1.5828 - accuracy: 0.7400 - val_loss: 1.8558 - val_accuracy: 0.6400\n",
            "Epoch 41/50\n",
            "43/43 [==============================] - 0s 7ms/step - loss: 1.5296 - accuracy: 0.7648 - val_loss: 1.8420 - val_accuracy: 0.6267\n",
            "Epoch 42/50\n",
            "43/43 [==============================] - 0s 7ms/step - loss: 1.5358 - accuracy: 0.7478 - val_loss: 1.8899 - val_accuracy: 0.6500\n",
            "Epoch 43/50\n",
            "43/43 [==============================] - 0s 7ms/step - loss: 1.4948 - accuracy: 0.7622 - val_loss: 1.7601 - val_accuracy: 0.6833\n",
            "Epoch 44/50\n",
            "43/43 [==============================] - 0s 7ms/step - loss: 1.4605 - accuracy: 0.7789 - val_loss: 1.7724 - val_accuracy: 0.6700\n",
            "Epoch 45/50\n",
            "43/43 [==============================] - 0s 7ms/step - loss: 1.4486 - accuracy: 0.7759 - val_loss: 1.7346 - val_accuracy: 0.6700\n",
            "Epoch 46/50\n",
            "43/43 [==============================] - 0s 7ms/step - loss: 1.4283 - accuracy: 0.7800 - val_loss: 1.7730 - val_accuracy: 0.6633\n",
            "Epoch 47/50\n",
            "43/43 [==============================] - 0s 7ms/step - loss: 1.4431 - accuracy: 0.7889 - val_loss: 1.8316 - val_accuracy: 0.6400\n",
            "Epoch 48/50\n",
            "43/43 [==============================] - 0s 7ms/step - loss: 1.3935 - accuracy: 0.8000 - val_loss: 1.7457 - val_accuracy: 0.6667\n",
            "Epoch 49/50\n",
            "43/43 [==============================] - 0s 7ms/step - loss: 1.4171 - accuracy: 0.7837 - val_loss: 1.7191 - val_accuracy: 0.6967\n",
            "Epoch 50/50\n",
            "43/43 [==============================] - 0s 7ms/step - loss: 1.4393 - accuracy: 0.7819 - val_loss: 1.8045 - val_accuracy: 0.6833\n"
          ]
        }
      ]
    },
    {
      "cell_type": "code",
      "metadata": {
        "colab": {
          "base_uri": "https://localhost:8080/",
          "height": 295
        },
        "id": "Q-WfnBKgwuU8",
        "outputId": "83a3f875-a17e-4c40-8b47-c6c1fbdb6db1"
      },
      "source": [
        "#Accuracy\n",
        "plt.plot(Lenet5_history.history['accuracy'])\n",
        "plt.plot(Lenet5_history.history['val_accuracy'])\n",
        "plt.title('Lenet5 model accuracy')\n",
        "plt.ylabel('accuracy')\n",
        "plt.xlabel('epoch')\n",
        "plt.legend(['train', 'validation'], loc='upper left')\n",
        "plt.savefig('Lenet5 Model Accuracy')\n",
        "plt.show()"
      ],
      "execution_count": null,
      "outputs": [
        {
          "output_type": "display_data",
          "data": {
            "image/png": "[encoded data removed]",
            "text/plain": [
              "<Figure size 432x288 with 1 Axes>"
            ]
          },
          "metadata": {
            "needs_background": "light"
          }
        }
      ]
    },
    {
      "cell_type": "code",
      "metadata": {
        "colab": {
          "base_uri": "https://localhost:8080/",
          "height": 295
        },
        "id": "oa0N9_rCwvWG",
        "outputId": "5926a282-888f-4447-c9f9-6ba3016efbd2"
      },
      "source": [
        "# \"Loss\"\n",
        "plt.plot(Lenet5_history.history['loss'])\n",
        "plt.plot(Lenet5_history.history['val_loss'])\n",
        "plt.title('Lenet5 model loss')\n",
        "plt.ylabel('loss')\n",
        "plt.xlabel('epoch')\n",
        "plt.legend(['train', 'validation'], loc='upper left')\n",
        "plt.savefig('Lenet5 Model Loss')\n",
        "plt.show()"
      ],
      "execution_count": null,
      "outputs": [
        {
          "output_type": "display_data",
          "data": {
            "image/png": "[encoded data removed]",
            "text/plain": [
              "<Figure size 432x288 with 1 Axes>"
            ]
          },
          "metadata": {
            "needs_background": "light"
          }
        }
      ]
    },
    {
      "cell_type": "markdown",
      "metadata": {
        "id": "A0j1R5WFeAjG"
      },
      "source": [
        "# Alexnet"
      ]
    },
    {
      "cell_type": "code",
      "metadata": {
        "id": "7TkgxHhMMMhN"
      },
      "source": [
        "DATADIR = \"/content/drive/MyDrive/Cse465_Dataset_3k_Images\"\n",
        "rgb_training_data = []\n",
        "IMG_SIZE = 227\n",
        "CATEGORIES = []\n",
        "i = 1\n",
        "while i != 61:\n",
        "    CATEGORIES.append(str(i))\n",
        "    i= i+1"
      ],
      "execution_count": null,
      "outputs": []
    },
    {
      "cell_type": "code",
      "metadata": {
        "colab": {
          "base_uri": "https://localhost:8080/"
        },
        "id": "ioWAjO4gLUUI",
        "outputId": "d8371d79-fa23-4594-855f-05617720795f"
      },
      "source": [
        "#Loading Dataset and printing total image numbers (33600)\n",
        "create_rgb_training_data(DATADIR,CATEGORIES,rgb_training_data,IMG_SIZE)\n",
        "random.shuffle(rgb_training_data)\n",
        "print(len(rgb_training_data))"
      ],
      "execution_count": null,
      "outputs": [
        {
          "output_type": "stream",
          "name": "stdout",
          "text": [
            "3000\n"
          ]
        }
      ]
    },
    {
      "cell_type": "code",
      "metadata": {
        "id": "CcJFLDzpMUqt"
      },
      "source": [
        "X = []\n",
        "y = []\n",
        "for features, label in rgb_training_data:\n",
        "    X.append(features)\n",
        "    y.append(label)\n",
        "\n",
        "X = np.array(X).reshape(-1, IMG_SIZE, IMG_SIZE,3)"
      ],
      "execution_count": null,
      "outputs": []
    },
    {
      "cell_type": "code",
      "metadata": {
        "id": "qkW2aO8zRY_0"
      },
      "source": [
        "pickle_out = open(\"DatasetAlexNet.pickle\", \"wb\")\n",
        "pickle.dump(X, pickle_out)\n",
        "pickle_out.close()\n",
        "\n",
        "pickle_out = open(\"LabelsAlexNet.pickle\", \"wb\")\n",
        "pickle.dump(y, pickle_out)\n",
        "pickle_out.close()"
      ],
      "execution_count": null,
      "outputs": []
    },
    {
      "cell_type": "code",
      "metadata": {
        "id": "6eQp_1dER4aO"
      },
      "source": [
        "pickle_in = open(\"/content/drive/MyDrive/Pickled Data/DatasetAlexNet.pickle\",\"rb\")\n",
        "X = pickle.load(pickle_in)\n",
        "\n",
        "pickle_in = open(\"/content/drive/MyDrive/Pickled Data/LabelsAlexNet.pickle\",\"rb\")\n",
        "y = pickle.load(pickle_in)"
      ],
      "execution_count": null,
      "outputs": []
    },
    {
      "cell_type": "code",
      "metadata": {
        "colab": {
          "base_uri": "https://localhost:8080/"
        },
        "id": "wkw_uvVIMZ0t",
        "outputId": "62f0d1a7-317d-4c0a-9e92-839febbe89bf"
      },
      "source": [
        "X= X/255  #Normalize Training data\n",
        "y = np.array(y)\n",
        "X.shape"
      ],
      "execution_count": null,
      "outputs": [
        {
          "output_type": "execute_result",
          "data": {
            "text/plain": [
              "(3000, 227, 227, 3)"
            ]
          },
          "metadata": {},
          "execution_count": 5
        }
      ]
    },
    {
      "cell_type": "code",
      "metadata": {
        "id": "NS-xPC1CMnsW",
        "colab": {
          "base_uri": "https://localhost:8080/"
        },
        "outputId": "71bf4e34-a645-4e98-c02c-efba626c0006"
      },
      "source": [
        "alexnet_model = Sequential([\n",
        "    Conv2D(filters=96, kernel_size=(11,11), strides=(4,4), activation='relu', input_shape=X.shape[1:]),\n",
        "    BatchNormalization(),\n",
        "    MaxPool2D(pool_size=(3,3), strides=(2,2)),\n",
        "    Conv2D(filters=256, kernel_size=(5,5), strides=(1,1), activation='relu', padding=\"same\"),\n",
        "    BatchNormalization(),\n",
        "    MaxPool2D(pool_size=(3,3), strides=(2,2)),\n",
        "    Conv2D(filters=384, kernel_size=(3,3), strides=(1,1), activation='relu', padding=\"same\"),\n",
        "    BatchNormalization(),\n",
        "    Conv2D(filters=384, kernel_size=(3,3), strides=(1,1), activation='relu', padding=\"same\"),\n",
        "    BatchNormalization(),\n",
        "    Conv2D(filters=256, kernel_size=(3,3), strides=(1,1), activation='relu', padding=\"same\"),\n",
        "    BatchNormalization(),\n",
        "    MaxPool2D(pool_size=(3,3), strides=(2,2)),\n",
        "    \n",
        "    Flatten(),\n",
        "    Dense(4096, activation='relu'),\n",
        "    Dropout(0.5),\n",
        "    Dense(4096, activation='relu'),\n",
        "    Dropout(0.5),\n",
        "    Dense(60, activation='softmax')\n",
        "])\n",
        "\n",
        "alexnet_model.compile(loss='sparse_categorical_crossentropy', \n",
        "                      optimizer=tf.optimizers.SGD(learning_rate=0.001,momentum=0.9,), \n",
        "                      metrics=['accuracy'])\n",
        "\n",
        "alexnet_history = alexnet_model.fit(X,y, epochs=90,batch_size=128,validation_split=0.1)"
      ],
      "execution_count": null,
      "outputs": [
        {
          "output_type": "stream",
          "name": "stdout",
          "text": [
            "Epoch 1/90\n",
            "22/22 [==============================] - 41s 403ms/step - loss: 5.7952 - accuracy: 0.0411 - val_loss: 3.9710 - val_accuracy: 0.0967\n",
            "Epoch 2/90\n",
            "22/22 [==============================] - 6s 288ms/step - loss: 3.7067 - accuracy: 0.1389 - val_loss: 3.6271 - val_accuracy: 0.2133\n",
            "Epoch 3/90\n",
            "22/22 [==============================] - 6s 289ms/step - loss: 2.9087 - accuracy: 0.2659 - val_loss: 3.2517 - val_accuracy: 0.3567\n",
            "Epoch 4/90\n",
            "22/22 [==============================] - 6s 289ms/step - loss: 2.4366 - accuracy: 0.3652 - val_loss: 2.8712 - val_accuracy: 0.4400\n",
            "Epoch 5/90\n",
            "22/22 [==============================] - 6s 289ms/step - loss: 2.0696 - accuracy: 0.4407 - val_loss: 2.7267 - val_accuracy: 0.4267\n",
            "Epoch 6/90\n",
            "22/22 [==============================] - 6s 292ms/step - loss: 1.8042 - accuracy: 0.4919 - val_loss: 2.6520 - val_accuracy: 0.4033\n",
            "Epoch 7/90\n",
            "22/22 [==============================] - 6s 292ms/step - loss: 1.5408 - accuracy: 0.5559 - val_loss: 2.5890 - val_accuracy: 0.3700\n",
            "Epoch 8/90\n",
            "22/22 [==============================] - 6s 291ms/step - loss: 1.3635 - accuracy: 0.5996 - val_loss: 2.6196 - val_accuracy: 0.3400\n",
            "Epoch 9/90\n",
            "22/22 [==============================] - 6s 293ms/step - loss: 1.2218 - accuracy: 0.6441 - val_loss: 2.5058 - val_accuracy: 0.3700\n",
            "Epoch 10/90\n",
            "22/22 [==============================] - 6s 294ms/step - loss: 1.0867 - accuracy: 0.6807 - val_loss: 2.5407 - val_accuracy: 0.3300\n",
            "Epoch 11/90\n",
            "22/22 [==============================] - 6s 293ms/step - loss: 0.9668 - accuracy: 0.7115 - val_loss: 2.4152 - val_accuracy: 0.3733\n",
            "Epoch 12/90\n",
            "22/22 [==============================] - 6s 294ms/step - loss: 0.8919 - accuracy: 0.7248 - val_loss: 2.3239 - val_accuracy: 0.4067\n",
            "Epoch 13/90\n",
            "22/22 [==============================] - 7s 297ms/step - loss: 0.7930 - accuracy: 0.7581 - val_loss: 2.2899 - val_accuracy: 0.3867\n",
            "Epoch 14/90\n",
            "22/22 [==============================] - 7s 296ms/step - loss: 0.7141 - accuracy: 0.7830 - val_loss: 2.1486 - val_accuracy: 0.4133\n",
            "Epoch 15/90\n",
            "22/22 [==============================] - 7s 298ms/step - loss: 0.6547 - accuracy: 0.8015 - val_loss: 1.9542 - val_accuracy: 0.4633\n",
            "Epoch 16/90\n",
            "22/22 [==============================] - 7s 297ms/step - loss: 0.6337 - accuracy: 0.8019 - val_loss: 1.7390 - val_accuracy: 0.5033\n",
            "Epoch 17/90\n",
            "22/22 [==============================] - 7s 296ms/step - loss: 0.5470 - accuracy: 0.8330 - val_loss: 1.6136 - val_accuracy: 0.5367\n",
            "Epoch 18/90\n",
            "22/22 [==============================] - 7s 297ms/step - loss: 0.4908 - accuracy: 0.8622 - val_loss: 1.5449 - val_accuracy: 0.5467\n",
            "Epoch 19/90\n",
            "22/22 [==============================] - 7s 296ms/step - loss: 0.4549 - accuracy: 0.8581 - val_loss: 1.3649 - val_accuracy: 0.6033\n",
            "Epoch 20/90\n",
            "22/22 [==============================] - 7s 296ms/step - loss: 0.4210 - accuracy: 0.8693 - val_loss: 1.2269 - val_accuracy: 0.6433\n",
            "Epoch 21/90\n",
            "22/22 [==============================] - 7s 298ms/step - loss: 0.3719 - accuracy: 0.8867 - val_loss: 1.1836 - val_accuracy: 0.6300\n",
            "Epoch 22/90\n",
            "22/22 [==============================] - 6s 295ms/step - loss: 0.3875 - accuracy: 0.8922 - val_loss: 1.0234 - val_accuracy: 0.6833\n",
            "Epoch 23/90\n",
            "22/22 [==============================] - 6s 295ms/step - loss: 0.3356 - accuracy: 0.8970 - val_loss: 1.0011 - val_accuracy: 0.6867\n",
            "Epoch 24/90\n",
            "22/22 [==============================] - 7s 298ms/step - loss: 0.3143 - accuracy: 0.9041 - val_loss: 0.9036 - val_accuracy: 0.7200\n",
            "Epoch 25/90\n",
            "22/22 [==============================] - 6s 295ms/step - loss: 0.3227 - accuracy: 0.9044 - val_loss: 0.8676 - val_accuracy: 0.7567\n",
            "Epoch 26/90\n",
            "22/22 [==============================] - 6s 296ms/step - loss: 0.2979 - accuracy: 0.9096 - val_loss: 0.8291 - val_accuracy: 0.7533\n",
            "Epoch 27/90\n",
            "22/22 [==============================] - 7s 296ms/step - loss: 0.2398 - accuracy: 0.9289 - val_loss: 0.7609 - val_accuracy: 0.7800\n",
            "Epoch 28/90\n",
            "22/22 [==============================] - 7s 297ms/step - loss: 0.2458 - accuracy: 0.9315 - val_loss: 0.7580 - val_accuracy: 0.7800\n",
            "Epoch 29/90\n",
            "22/22 [==============================] - 7s 297ms/step - loss: 0.2142 - accuracy: 0.9370 - val_loss: 0.7616 - val_accuracy: 0.7833\n",
            "Epoch 30/90\n",
            "22/22 [==============================] - 7s 297ms/step - loss: 0.1965 - accuracy: 0.9437 - val_loss: 0.7246 - val_accuracy: 0.7833\n",
            "Epoch 31/90\n",
            "22/22 [==============================] - 7s 298ms/step - loss: 0.1934 - accuracy: 0.9489 - val_loss: 0.6848 - val_accuracy: 0.8067\n",
            "Epoch 32/90\n",
            "22/22 [==============================] - 7s 297ms/step - loss: 0.1530 - accuracy: 0.9600 - val_loss: 0.6775 - val_accuracy: 0.8067\n",
            "Epoch 33/90\n",
            "22/22 [==============================] - 7s 297ms/step - loss: 0.1693 - accuracy: 0.9496 - val_loss: 0.6767 - val_accuracy: 0.8200\n",
            "Epoch 34/90\n",
            "22/22 [==============================] - 6s 296ms/step - loss: 0.1534 - accuracy: 0.9581 - val_loss: 0.6673 - val_accuracy: 0.7967\n",
            "Epoch 35/90\n",
            "22/22 [==============================] - 7s 297ms/step - loss: 0.1613 - accuracy: 0.9578 - val_loss: 0.6871 - val_accuracy: 0.7833\n",
            "Epoch 36/90\n",
            "22/22 [==============================] - 7s 296ms/step - loss: 0.1344 - accuracy: 0.9633 - val_loss: 0.6620 - val_accuracy: 0.8067\n",
            "Epoch 37/90\n",
            "22/22 [==============================] - 6s 295ms/step - loss: 0.1168 - accuracy: 0.9741 - val_loss: 0.6621 - val_accuracy: 0.8000\n",
            "Epoch 38/90\n",
            "22/22 [==============================] - 7s 297ms/step - loss: 0.1131 - accuracy: 0.9730 - val_loss: 0.6596 - val_accuracy: 0.8100\n",
            "Epoch 39/90\n",
            "22/22 [==============================] - 7s 298ms/step - loss: 0.1059 - accuracy: 0.9730 - val_loss: 0.6326 - val_accuracy: 0.8233\n",
            "Epoch 40/90\n",
            "22/22 [==============================] - 7s 297ms/step - loss: 0.1245 - accuracy: 0.9681 - val_loss: 0.6619 - val_accuracy: 0.8000\n",
            "Epoch 41/90\n",
            "22/22 [==============================] - 7s 297ms/step - loss: 0.1299 - accuracy: 0.9641 - val_loss: 0.6582 - val_accuracy: 0.7900\n",
            "Epoch 42/90\n",
            "22/22 [==============================] - 7s 298ms/step - loss: 0.1052 - accuracy: 0.9756 - val_loss: 0.6349 - val_accuracy: 0.8100\n",
            "Epoch 43/90\n",
            "22/22 [==============================] - 7s 297ms/step - loss: 0.0921 - accuracy: 0.9789 - val_loss: 0.6617 - val_accuracy: 0.8033\n",
            "Epoch 44/90\n",
            "22/22 [==============================] - 6s 296ms/step - loss: 0.1064 - accuracy: 0.9733 - val_loss: 0.6532 - val_accuracy: 0.8067\n",
            "Epoch 45/90\n",
            "22/22 [==============================] - 7s 297ms/step - loss: 0.0861 - accuracy: 0.9811 - val_loss: 0.6217 - val_accuracy: 0.8100\n",
            "Epoch 46/90\n",
            "22/22 [==============================] - 7s 297ms/step - loss: 0.0865 - accuracy: 0.9789 - val_loss: 0.6403 - val_accuracy: 0.8067\n",
            "Epoch 47/90\n",
            "22/22 [==============================] - 7s 298ms/step - loss: 0.0922 - accuracy: 0.9733 - val_loss: 0.6449 - val_accuracy: 0.8033\n",
            "Epoch 48/90\n",
            "22/22 [==============================] - 7s 299ms/step - loss: 0.0771 - accuracy: 0.9793 - val_loss: 0.6327 - val_accuracy: 0.8167\n",
            "Epoch 49/90\n",
            "22/22 [==============================] - 7s 299ms/step - loss: 0.0714 - accuracy: 0.9811 - val_loss: 0.6609 - val_accuracy: 0.8033\n",
            "Epoch 50/90\n",
            "22/22 [==============================] - 7s 296ms/step - loss: 0.0588 - accuracy: 0.9863 - val_loss: 0.6390 - val_accuracy: 0.8000\n",
            "Epoch 51/90\n",
            "22/22 [==============================] - 7s 297ms/step - loss: 0.0662 - accuracy: 0.9833 - val_loss: 0.6440 - val_accuracy: 0.8033\n",
            "Epoch 52/90\n",
            "22/22 [==============================] - 7s 297ms/step - loss: 0.0598 - accuracy: 0.9863 - val_loss: 0.6926 - val_accuracy: 0.8033\n",
            "Epoch 53/90\n",
            "22/22 [==============================] - 6s 295ms/step - loss: 0.0606 - accuracy: 0.9878 - val_loss: 0.6766 - val_accuracy: 0.8000\n",
            "Epoch 54/90\n",
            "22/22 [==============================] - 7s 297ms/step - loss: 0.0555 - accuracy: 0.9889 - val_loss: 0.6725 - val_accuracy: 0.8167\n",
            "Epoch 55/90\n",
            "22/22 [==============================] - 7s 300ms/step - loss: 0.0508 - accuracy: 0.9878 - val_loss: 0.6549 - val_accuracy: 0.8167\n",
            "Epoch 56/90\n",
            "22/22 [==============================] - 7s 297ms/step - loss: 0.0522 - accuracy: 0.9881 - val_loss: 0.6369 - val_accuracy: 0.8100\n",
            "Epoch 57/90\n",
            "22/22 [==============================] - 6s 296ms/step - loss: 0.0465 - accuracy: 0.9904 - val_loss: 0.6290 - val_accuracy: 0.8100\n",
            "Epoch 58/90\n",
            "22/22 [==============================] - 7s 299ms/step - loss: 0.0597 - accuracy: 0.9830 - val_loss: 0.6476 - val_accuracy: 0.8133\n",
            "Epoch 59/90\n",
            "22/22 [==============================] - 7s 297ms/step - loss: 0.0653 - accuracy: 0.9848 - val_loss: 0.6678 - val_accuracy: 0.8133\n",
            "Epoch 60/90\n",
            "22/22 [==============================] - 6s 295ms/step - loss: 0.0639 - accuracy: 0.9837 - val_loss: 0.6338 - val_accuracy: 0.8267\n",
            "Epoch 61/90\n",
            "22/22 [==============================] - 7s 298ms/step - loss: 0.0652 - accuracy: 0.9863 - val_loss: 0.6546 - val_accuracy: 0.8200\n",
            "Epoch 62/90\n",
            "22/22 [==============================] - 6s 296ms/step - loss: 0.0488 - accuracy: 0.9915 - val_loss: 0.6416 - val_accuracy: 0.8200\n",
            "Epoch 63/90\n",
            "22/22 [==============================] - 7s 299ms/step - loss: 0.0530 - accuracy: 0.9878 - val_loss: 0.6655 - val_accuracy: 0.8033\n",
            "Epoch 64/90\n",
            "22/22 [==============================] - 6s 295ms/step - loss: 0.0480 - accuracy: 0.9911 - val_loss: 0.6437 - val_accuracy: 0.8033\n",
            "Epoch 65/90\n",
            "22/22 [==============================] - 6s 296ms/step - loss: 0.0472 - accuracy: 0.9907 - val_loss: 0.6383 - val_accuracy: 0.8100\n",
            "Epoch 66/90\n",
            "22/22 [==============================] - 6s 296ms/step - loss: 0.0492 - accuracy: 0.9885 - val_loss: 0.6599 - val_accuracy: 0.8167\n",
            "Epoch 67/90\n",
            "22/22 [==============================] - 7s 297ms/step - loss: 0.0425 - accuracy: 0.9911 - val_loss: 0.6430 - val_accuracy: 0.8133\n",
            "Epoch 68/90\n",
            "22/22 [==============================] - 6s 295ms/step - loss: 0.0564 - accuracy: 0.9856 - val_loss: 0.6653 - val_accuracy: 0.8200\n",
            "Epoch 69/90\n",
            "22/22 [==============================] - 7s 297ms/step - loss: 0.0487 - accuracy: 0.9881 - val_loss: 0.6494 - val_accuracy: 0.8300\n",
            "Epoch 70/90\n",
            "22/22 [==============================] - 7s 297ms/step - loss: 0.0514 - accuracy: 0.9885 - val_loss: 0.6343 - val_accuracy: 0.8233\n",
            "Epoch 71/90\n",
            "22/22 [==============================] - 7s 298ms/step - loss: 0.0420 - accuracy: 0.9915 - val_loss: 0.6464 - val_accuracy: 0.8133\n",
            "Epoch 72/90\n",
            "22/22 [==============================] - 7s 298ms/step - loss: 0.0487 - accuracy: 0.9867 - val_loss: 0.6485 - val_accuracy: 0.8000\n",
            "Epoch 73/90\n",
            "22/22 [==============================] - 7s 298ms/step - loss: 0.0392 - accuracy: 0.9922 - val_loss: 0.6640 - val_accuracy: 0.8033\n",
            "Epoch 74/90\n",
            "22/22 [==============================] - 6s 295ms/step - loss: 0.0472 - accuracy: 0.9885 - val_loss: 0.6453 - val_accuracy: 0.8233\n",
            "Epoch 75/90\n",
            "22/22 [==============================] - 7s 296ms/step - loss: 0.0417 - accuracy: 0.9919 - val_loss: 0.6389 - val_accuracy: 0.8300\n",
            "Epoch 76/90\n",
            "22/22 [==============================] - 7s 298ms/step - loss: 0.0388 - accuracy: 0.9915 - val_loss: 0.6559 - val_accuracy: 0.8167\n",
            "Epoch 77/90\n",
            "22/22 [==============================] - 6s 294ms/step - loss: 0.0334 - accuracy: 0.9941 - val_loss: 0.6715 - val_accuracy: 0.8133\n",
            "Epoch 78/90\n",
            "22/22 [==============================] - 6s 295ms/step - loss: 0.0347 - accuracy: 0.9926 - val_loss: 0.6436 - val_accuracy: 0.8100\n",
            "Epoch 79/90\n",
            "22/22 [==============================] - 7s 298ms/step - loss: 0.0323 - accuracy: 0.9922 - val_loss: 0.6194 - val_accuracy: 0.8200\n",
            "Epoch 80/90\n",
            "22/22 [==============================] - 7s 298ms/step - loss: 0.0281 - accuracy: 0.9941 - val_loss: 0.6322 - val_accuracy: 0.8067\n",
            "Epoch 81/90\n",
            "22/22 [==============================] - 7s 299ms/step - loss: 0.0338 - accuracy: 0.9922 - val_loss: 0.6445 - val_accuracy: 0.8100\n",
            "Epoch 82/90\n",
            "22/22 [==============================] - 7s 297ms/step - loss: 0.0323 - accuracy: 0.9922 - val_loss: 0.6357 - val_accuracy: 0.8133\n",
            "Epoch 83/90\n",
            "22/22 [==============================] - 6s 295ms/step - loss: 0.0276 - accuracy: 0.9933 - val_loss: 0.6201 - val_accuracy: 0.8233\n",
            "Epoch 84/90\n",
            "22/22 [==============================] - 7s 296ms/step - loss: 0.0254 - accuracy: 0.9941 - val_loss: 0.6309 - val_accuracy: 0.8200\n",
            "Epoch 85/90\n",
            "22/22 [==============================] - 7s 297ms/step - loss: 0.0304 - accuracy: 0.9941 - val_loss: 0.6189 - val_accuracy: 0.8167\n",
            "Epoch 86/90\n",
            "22/22 [==============================] - 6s 296ms/step - loss: 0.0259 - accuracy: 0.9963 - val_loss: 0.6297 - val_accuracy: 0.8267\n",
            "Epoch 87/90\n",
            "22/22 [==============================] - 7s 297ms/step - loss: 0.0387 - accuracy: 0.9922 - val_loss: 0.6443 - val_accuracy: 0.8233\n",
            "Epoch 88/90\n",
            "22/22 [==============================] - 7s 298ms/step - loss: 0.0438 - accuracy: 0.9915 - val_loss: 0.6432 - val_accuracy: 0.8233\n",
            "Epoch 89/90\n",
            "22/22 [==============================] - 7s 298ms/step - loss: 0.0427 - accuracy: 0.9937 - val_loss: 0.6316 - val_accuracy: 0.8267\n",
            "Epoch 90/90\n",
            "22/22 [==============================] - 7s 298ms/step - loss: 0.0312 - accuracy: 0.9948 - val_loss: 0.6337 - val_accuracy: 0.8267\n"
          ]
        }
      ]
    },
    {
      "cell_type": "code",
      "metadata": {
        "colab": {
          "base_uri": "https://localhost:8080/",
          "height": 295
        },
        "id": "9GjvDeoCXdC-",
        "outputId": "b7193bf7-0df2-4aab-815f-8dfb86d17240"
      },
      "source": [
        "#Accuracy\n",
        "plt.plot(alexnet_history.history['accuracy'])\n",
        "plt.plot(alexnet_history.history['val_accuracy'])\n",
        "plt.title('Alexnet model accuracy')\n",
        "plt.ylabel('accuracy')\n",
        "plt.xlabel('epoch')\n",
        "plt.legend(['train', 'validation'], loc='upper left')\n",
        "plt.savefig('Alexnet Model Accuracy')\n",
        "plt.show()"
      ],
      "execution_count": null,
      "outputs": [
        {
          "output_type": "display_data",
          "data": {
            "image/png": "[encoded data removed]",
            "text/plain": [
              "<Figure size 432x288 with 1 Axes>"
            ]
          },
          "metadata": {
            "needs_background": "light"
          }
        }
      ]
    },
    {
      "cell_type": "code",
      "metadata": {
        "colab": {
          "base_uri": "https://localhost:8080/",
          "height": 295
        },
        "id": "mMKa_MvFXVot",
        "outputId": "932d025a-6972-46e9-e776-73b8b67420ff"
      },
      "source": [
        "# \"Loss\"\n",
        "plt.plot(alexnet_history.history['loss'])\n",
        "plt.plot(alexnet_history.history['val_loss'])\n",
        "plt.title('Alexnet model loss')\n",
        "plt.ylabel('loss')\n",
        "plt.xlabel('epoch')\n",
        "plt.legend(['train', 'validation'], loc='upper left')\n",
        "plt.savefig('Alexnet Model Loss')\n",
        "plt.show()"
      ],
      "execution_count": null,
      "outputs": [
        {
          "output_type": "display_data",
          "data": {
            "image/png": "[encoded data removed]",
            "text/plain": [
              "<Figure size 432x288 with 1 Axes>"
            ]
          },
          "metadata": {
            "needs_background": "light"
          }
        }
      ]
    },
    {
      "cell_type": "code",
      "metadata": {
        "id": "pfdK6x_QDN3j"
      },
      "source": [
        ""
      ],
      "execution_count": null,
      "outputs": []
    },
    {
      "cell_type": "markdown",
      "metadata": {
        "id": "CBWLtyCqfwDz"
      },
      "source": [
        "# Vgg16"
      ]
    },
    {
      "cell_type": "code",
      "metadata": {
        "id": "pSdCtvkd5wjM"
      },
      "source": [
        "DATADIR = \"/content/drive/MyDrive/Cse465_Dataset_3k_Images\"\n",
        "rgb_training_data = []\n",
        "IMG_SIZE = 224\n",
        "CATEGORIES = []\n",
        "i = 1\n",
        "while i != 61:\n",
        "    CATEGORIES.append(str(i))\n",
        "    i= i+1"
      ],
      "execution_count": null,
      "outputs": []
    },
    {
      "cell_type": "code",
      "metadata": {
        "colab": {
          "base_uri": "https://localhost:8080/",
          "height": 269
        },
        "id": "SMiIseQ47Mfq",
        "outputId": "2254c62d-54a5-42c5-a3a0-d08f5efcca1b"
      },
      "source": [
        "#Checking Images in Dataset\n",
        "for catergoy in CATEGORIES:\n",
        "    path = os.path.join(DATADIR, catergoy) #path to dataset\n",
        "    for img in os.listdir(path):\n",
        "        img_array = cv2.imread(os.path.join(path,img))\n",
        "        plt.imshow(img_array)\n",
        "        plt.show()\n",
        "        break\n",
        "    break"
      ],
      "execution_count": null,
      "outputs": [
        {
          "data": {
            "image/png": "[encoded data removed]",
            "text/plain": [
              "<Figure size 432x288 with 1 Axes>"
            ]
          },
          "metadata": {},
          "output_type": "display_data"
        }
      ]
    },
    {
      "cell_type": "code",
      "metadata": {
        "id": "Xtep3cx75yvT"
      },
      "source": [
        "#Loading Dataset and printing total image numbers (33600)\n",
        "create_rgb_training_data(DATADIR,CATEGORIES,rgb_training_data,IMG_SIZE)"
      ],
      "execution_count": null,
      "outputs": []
    },
    {
      "cell_type": "code",
      "metadata": {
        "id": "r3kEsDHzfGOn"
      },
      "source": [
        "random.shuffle(rgb_training_data)\n",
        "print(len(rgb_training_data))"
      ],
      "execution_count": null,
      "outputs": []
    },
    {
      "cell_type": "code",
      "metadata": {
        "id": "aIWpzvwbt7iB"
      },
      "source": [
        "X = []\n",
        "y = []\n",
        "for features, label in rgb_training_data:\n",
        "    X.append(features)\n",
        "    y.append(label)\n",
        "\n",
        "X = np.array(X).reshape(-1, IMG_SIZE, IMG_SIZE,3)"
      ],
      "execution_count": null,
      "outputs": []
    },
    {
      "cell_type": "code",
      "metadata": {
        "id": "RCFTSHsvMD7d"
      },
      "source": [
        "pickle_in = open(\"/content/drive/MyDrive/Pickled Data/RGBDataset.pickle\",\"rb\")\n",
        "X = pickle.load(pickle_in)\n",
        "\n",
        "pickle_in = open(\"/content/drive/MyDrive/Pickled Data/RGBLabels.pickle\",\"rb\")\n",
        "y = pickle.load(pickle_in)"
      ],
      "execution_count": null,
      "outputs": []
    },
    {
      "cell_type": "code",
      "metadata": {
        "colab": {
          "base_uri": "https://localhost:8080/"
        },
        "id": "UW5Hp0SMMFSe",
        "outputId": "f429784a-d210-47fc-96df-8607d9d0a26a"
      },
      "source": [
        "X= X/255  #Normalize Training data\n",
        "y = np.array(y)\n",
        "X.shape"
      ],
      "execution_count": null,
      "outputs": [
        {
          "output_type": "execute_result",
          "data": {
            "text/plain": [
              "(3000, 224, 224, 3)"
            ]
          },
          "metadata": {},
          "execution_count": 5
        }
      ]
    },
    {
      "cell_type": "code",
      "metadata": {
        "id": "nMlgJbWhbr0Z",
        "colab": {
          "base_uri": "https://localhost:8080/"
        },
        "outputId": "2675e7f9-ef33-4128-c2fd-4e9fb7e70fda"
      },
      "source": [
        "VGG = tf.keras.applications.vgg16.VGG16(input_shape=X.shape[1:],include_top = False,weights='imagenet')\n",
        "VGG.trainable = False"
      ],
      "execution_count": null,
      "outputs": [
        {
          "output_type": "stream",
          "name": "stdout",
          "text": [
            "Downloading data from https://storage.googleapis.com/tensorflow/keras-applications/vgg16/vgg16_weights_tf_dim_ordering_tf_kernels_notop.h5\n",
            "58892288/58889256 [==============================] - 1s 0us/step\n",
            "58900480/58889256 [==============================] - 1s 0us/step\n"
          ]
        }
      ]
    },
    {
      "cell_type": "code",
      "metadata": {
        "id": "JcnS4dsLc6yg",
        "colab": {
          "base_uri": "https://localhost:8080/"
        },
        "outputId": "9c8ecbde-9964-4fe1-f7b9-269b322f24fc"
      },
      "source": [
        "vgg_model = Sequential([\n",
        "    VGG,\n",
        "    Flatten(),\n",
        "    Dense(units=4096,activation='relu'),\n",
        "    Dropout(0.25),\n",
        "    Dense(units=4096,activation='relu'),\n",
        "    Dropout(0.25),\n",
        "    Dense(units=60,activation='softmax')\n",
        "])\n",
        "\n",
        "vgg_model.compile(optimizer='adam',\n",
        "              loss= 'sparse_categorical_crossentropy',\n",
        "              metrics=['accuracy'])\n",
        "\n",
        "vgg_history = vgg_model.fit(X,y, epochs=10,batch_size=32,validation_split=0.1)"
      ],
      "execution_count": null,
      "outputs": [
        {
          "output_type": "stream",
          "name": "stdout",
          "text": [
            "Epoch 1/10\n",
            "85/85 [==============================] - 65s 346ms/step - loss: 4.6036 - accuracy: 0.1778 - val_loss: 1.7313 - val_accuracy: 0.4767\n",
            "Epoch 2/10\n",
            "85/85 [==============================] - 25s 298ms/step - loss: 1.6865 - accuracy: 0.4941 - val_loss: 1.2938 - val_accuracy: 0.5900\n",
            "Epoch 3/10\n",
            "85/85 [==============================] - 26s 301ms/step - loss: 1.1807 - accuracy: 0.6256 - val_loss: 1.1712 - val_accuracy: 0.6333\n",
            "Epoch 4/10\n",
            "85/85 [==============================] - 26s 302ms/step - loss: 1.0015 - accuracy: 0.6896 - val_loss: 0.9822 - val_accuracy: 0.7033\n",
            "Epoch 5/10\n",
            "85/85 [==============================] - 26s 302ms/step - loss: 0.8274 - accuracy: 0.7326 - val_loss: 0.7780 - val_accuracy: 0.7533\n",
            "Epoch 6/10\n",
            "85/85 [==============================] - 26s 303ms/step - loss: 0.6480 - accuracy: 0.7915 - val_loss: 0.8174 - val_accuracy: 0.7633\n",
            "Epoch 7/10\n",
            "85/85 [==============================] - 26s 303ms/step - loss: 0.6631 - accuracy: 0.7926 - val_loss: 0.6665 - val_accuracy: 0.7667\n",
            "Epoch 8/10\n",
            "85/85 [==============================] - 26s 303ms/step - loss: 0.5265 - accuracy: 0.8367 - val_loss: 0.8867 - val_accuracy: 0.7433\n",
            "Epoch 9/10\n",
            "85/85 [==============================] - 26s 303ms/step - loss: 0.5412 - accuracy: 0.8311 - val_loss: 0.8074 - val_accuracy: 0.7600\n",
            "Epoch 10/10\n",
            "85/85 [==============================] - 26s 303ms/step - loss: 0.5605 - accuracy: 0.8281 - val_loss: 0.8394 - val_accuracy: 0.7600\n"
          ]
        }
      ]
    },
    {
      "cell_type": "code",
      "metadata": {
        "colab": {
          "base_uri": "https://localhost:8080/",
          "height": 295
        },
        "id": "Wgp5rjY6ixDy",
        "outputId": "888f088a-cc9c-424b-9c55-7e2f3aea0659"
      },
      "source": [
        "#Accuracy\n",
        "plt.plot(vgg_history.history['accuracy'])\n",
        "plt.plot(vgg_history.history['val_accuracy'])\n",
        "plt.title('Vgg16 model accuracy')\n",
        "plt.ylabel('accuracy')\n",
        "plt.xlabel('epoch')\n",
        "plt.legend(['train', 'validation'], loc='upper left')\n",
        "plt.savefig('Vgg16 Model Accuracy')\n",
        "plt.show()"
      ],
      "execution_count": null,
      "outputs": [
        {
          "output_type": "display_data",
          "data": {
            "image/png": "[encoded data removed]",
            "text/plain": [
              "<Figure size 432x288 with 1 Axes>"
            ]
          },
          "metadata": {
            "needs_background": "light"
          }
        }
      ]
    },
    {
      "cell_type": "code",
      "metadata": {
        "colab": {
          "base_uri": "https://localhost:8080/",
          "height": 295
        },
        "id": "0rvjskNRi4Z6",
        "outputId": "00b1aeb8-08e3-4178-9a82-417dcb9aeb2f"
      },
      "source": [
        "# \"Loss\"\n",
        "plt.plot(vgg_history.history['loss'])\n",
        "plt.plot(vgg_history.history['val_loss'])\n",
        "plt.title('Vgg16 model loss')\n",
        "plt.ylabel('loss')\n",
        "plt.xlabel('epoch')\n",
        "plt.legend(['train', 'validation'], loc='upper left')\n",
        "plt.savefig('VGG16 Model Loss')\n",
        "plt.show()"
      ],
      "execution_count": null,
      "outputs": [
        {
          "output_type": "display_data",
          "data": {
            "image/png": "[encoded data removed]",
            "text/plain": [
              "<Figure size 432x288 with 1 Axes>"
            ]
          },
          "metadata": {
            "needs_background": "light"
          }
        }
      ]
    },
    {
      "cell_type": "markdown",
      "metadata": {
        "id": "FfuHXxNuM55O"
      },
      "source": [
        "# ZF Net"
      ]
    },
    {
      "cell_type": "code",
      "metadata": {
        "id": "ZIQhJPvMLoGe"
      },
      "source": [
        "pickle_in = open(\"/content/drive/MyDrive/Pickled Data/DatasetAlexNet.pickle\",\"rb\")\n",
        "X = pickle.load(pickle_in)\n",
        "\n",
        "pickle_in = open(\"/content/drive/MyDrive/Pickled Data/LabelsAlexNet.pickle\",\"rb\")\n",
        "y = pickle.load(pickle_in)"
      ],
      "execution_count": null,
      "outputs": []
    },
    {
      "cell_type": "code",
      "metadata": {
        "colab": {
          "base_uri": "https://localhost:8080/"
        },
        "id": "s24LleuvLpMV",
        "outputId": "22d6e908-0d93-4a77-8511-072200ef26d8"
      },
      "source": [
        "X= X/255  #Normalize Training data\n",
        "y = np.array(y)\n",
        "X.shape"
      ],
      "execution_count": null,
      "outputs": [
        {
          "output_type": "execute_result",
          "data": {
            "text/plain": [
              "(3000, 227, 227, 3)"
            ]
          },
          "metadata": {},
          "execution_count": 36
        }
      ]
    },
    {
      "cell_type": "code",
      "metadata": {
        "colab": {
          "base_uri": "https://localhost:8080/"
        },
        "id": "GU2CIBndK_Gd",
        "outputId": "4c8f6f07-caf8-417f-b1a8-a169f69ea0ca"
      },
      "source": [
        "ZFnet_model = Sequential([\n",
        "    Conv2D(filters=96, kernel_size=(7,7), strides=(2,2), activation='relu', input_shape=X.shape[1:]),\n",
        "    BatchNormalization(),\n",
        "    MaxPool2D(pool_size=(3,3), strides=(2,2)),\n",
        "    Conv2D(filters=256, kernel_size=(5,5), strides=(1,1), activation='relu', padding=\"same\"),\n",
        "    BatchNormalization(),\n",
        "    MaxPool2D(pool_size=(3,3), strides=(2,2)),\n",
        "    Conv2D(filters=512, kernel_size=(3,3), strides=(1,1), activation='relu', padding=\"same\"),\n",
        "    BatchNormalization(),\n",
        "    Conv2D(filters=1024, kernel_size=(3,3), strides=(1,1), activation='relu', padding=\"same\"),\n",
        "    BatchNormalization(),\n",
        "    Conv2D(filters=512, kernel_size=(3,3), strides=(1,1), activation='relu', padding=\"same\"),\n",
        "    BatchNormalization(),\n",
        "    MaxPool2D(pool_size=(3,3), strides=(2,2)),\n",
        "    \n",
        "    Flatten(),\n",
        "    Dense(4096, activation='relu'),\n",
        "    Dropout(0.5),\n",
        "    Dense(4096, activation='relu'),\n",
        "    Dropout(0.5),\n",
        "    Dense(60, activation='softmax')\n",
        "])\n",
        "\n",
        "ZFnet_model.compile(loss='sparse_categorical_crossentropy', \n",
        "                      optimizer=tf.optimizers.SGD(learning_rate=0.001,momentum=0.9,), \n",
        "                      metrics=['accuracy'])\n",
        "\n",
        "ZFnet__history = ZFnet_model.fit(X,y, epochs=50,batch_size=64,validation_split=0.1)"
      ],
      "execution_count": null,
      "outputs": [
        {
          "output_type": "stream",
          "name": "stdout",
          "text": [
            "Epoch 1/50\n",
            "43/43 [==============================] - 73s 1s/step - loss: 5.8212 - accuracy: 0.0974 - val_loss: 2.9947 - val_accuracy: 0.2767\n",
            "Epoch 2/50\n",
            "43/43 [==============================] - 36s 846ms/step - loss: 3.0036 - accuracy: 0.2848 - val_loss: 2.6614 - val_accuracy: 0.3367\n",
            "Epoch 3/50\n",
            "43/43 [==============================] - 36s 845ms/step - loss: 2.4525 - accuracy: 0.3789 - val_loss: 2.8546 - val_accuracy: 0.2667\n",
            "Epoch 4/50\n",
            "43/43 [==============================] - 36s 848ms/step - loss: 1.9494 - accuracy: 0.4748 - val_loss: 2.9208 - val_accuracy: 0.2633\n",
            "Epoch 5/50\n",
            "43/43 [==============================] - 36s 848ms/step - loss: 1.6378 - accuracy: 0.5433 - val_loss: 2.9029 - val_accuracy: 0.2533\n",
            "Epoch 6/50\n",
            "43/43 [==============================] - 36s 847ms/step - loss: 1.3427 - accuracy: 0.6126 - val_loss: 2.7686 - val_accuracy: 0.3000\n",
            "Epoch 7/50\n",
            "43/43 [==============================] - 36s 846ms/step - loss: 1.1248 - accuracy: 0.6644 - val_loss: 2.3569 - val_accuracy: 0.3900\n",
            "Epoch 8/50\n",
            "43/43 [==============================] - 36s 846ms/step - loss: 0.9620 - accuracy: 0.7133 - val_loss: 2.2133 - val_accuracy: 0.4167\n",
            "Epoch 9/50\n",
            "43/43 [==============================] - 36s 848ms/step - loss: 0.8390 - accuracy: 0.7463 - val_loss: 1.8434 - val_accuracy: 0.5133\n",
            "Epoch 10/50\n",
            "43/43 [==============================] - 36s 846ms/step - loss: 0.6815 - accuracy: 0.7881 - val_loss: 1.5246 - val_accuracy: 0.6100\n",
            "Epoch 11/50\n",
            "43/43 [==============================] - 36s 845ms/step - loss: 0.6051 - accuracy: 0.8196 - val_loss: 1.3482 - val_accuracy: 0.6133\n",
            "Epoch 12/50\n",
            "43/43 [==============================] - 36s 845ms/step - loss: 0.5037 - accuracy: 0.8381 - val_loss: 1.3078 - val_accuracy: 0.6533\n",
            "Epoch 13/50\n",
            "43/43 [==============================] - 36s 847ms/step - loss: 0.4562 - accuracy: 0.8593 - val_loss: 1.0853 - val_accuracy: 0.7033\n",
            "Epoch 14/50\n",
            "43/43 [==============================] - 36s 847ms/step - loss: 0.3866 - accuracy: 0.8719 - val_loss: 1.0707 - val_accuracy: 0.7067\n",
            "Epoch 15/50\n",
            "43/43 [==============================] - 36s 846ms/step - loss: 0.3149 - accuracy: 0.8907 - val_loss: 1.0625 - val_accuracy: 0.6833\n",
            "Epoch 16/50\n",
            "43/43 [==============================] - 36s 847ms/step - loss: 0.2895 - accuracy: 0.9081 - val_loss: 0.9832 - val_accuracy: 0.7067\n",
            "Epoch 17/50\n",
            "43/43 [==============================] - 36s 846ms/step - loss: 0.2797 - accuracy: 0.9059 - val_loss: 0.9663 - val_accuracy: 0.7000\n",
            "Epoch 18/50\n",
            "43/43 [==============================] - 36s 846ms/step - loss: 0.2365 - accuracy: 0.9219 - val_loss: 0.9514 - val_accuracy: 0.7267\n",
            "Epoch 19/50\n",
            "43/43 [==============================] - 36s 847ms/step - loss: 0.2158 - accuracy: 0.9344 - val_loss: 0.9041 - val_accuracy: 0.7567\n",
            "Epoch 20/50\n",
            "43/43 [==============================] - 36s 846ms/step - loss: 0.2035 - accuracy: 0.9381 - val_loss: 0.8978 - val_accuracy: 0.7500\n",
            "Epoch 21/50\n",
            "43/43 [==============================] - 36s 846ms/step - loss: 0.1776 - accuracy: 0.9467 - val_loss: 0.9394 - val_accuracy: 0.7467\n",
            "Epoch 22/50\n",
            "43/43 [==============================] - 36s 846ms/step - loss: 0.1698 - accuracy: 0.9448 - val_loss: 0.9418 - val_accuracy: 0.7500\n",
            "Epoch 23/50\n",
            "43/43 [==============================] - 36s 846ms/step - loss: 0.1444 - accuracy: 0.9530 - val_loss: 0.9512 - val_accuracy: 0.7400\n",
            "Epoch 24/50\n",
            "43/43 [==============================] - 36s 846ms/step - loss: 0.1332 - accuracy: 0.9589 - val_loss: 0.9511 - val_accuracy: 0.7400\n",
            "Epoch 25/50\n",
            "43/43 [==============================] - 36s 846ms/step - loss: 0.1467 - accuracy: 0.9563 - val_loss: 0.9906 - val_accuracy: 0.7667\n",
            "Epoch 26/50\n",
            "43/43 [==============================] - 36s 846ms/step - loss: 0.1280 - accuracy: 0.9604 - val_loss: 0.9762 - val_accuracy: 0.7500\n",
            "Epoch 27/50\n",
            "43/43 [==============================] - 36s 847ms/step - loss: 0.1253 - accuracy: 0.9593 - val_loss: 0.9783 - val_accuracy: 0.7533\n",
            "Epoch 28/50\n",
            "43/43 [==============================] - 36s 846ms/step - loss: 0.1011 - accuracy: 0.9711 - val_loss: 0.9490 - val_accuracy: 0.7600\n",
            "Epoch 29/50\n",
            "43/43 [==============================] - 36s 846ms/step - loss: 0.0997 - accuracy: 0.9722 - val_loss: 0.9586 - val_accuracy: 0.7533\n",
            "Epoch 30/50\n",
            "43/43 [==============================] - 36s 846ms/step - loss: 0.0955 - accuracy: 0.9730 - val_loss: 0.9969 - val_accuracy: 0.7667\n",
            "Epoch 31/50\n",
            "43/43 [==============================] - 36s 846ms/step - loss: 0.0757 - accuracy: 0.9767 - val_loss: 0.9636 - val_accuracy: 0.7633\n",
            "Epoch 32/50\n",
            "43/43 [==============================] - 36s 846ms/step - loss: 0.0841 - accuracy: 0.9752 - val_loss: 0.9364 - val_accuracy: 0.7667\n",
            "Epoch 33/50\n",
            "43/43 [==============================] - 36s 845ms/step - loss: 0.0731 - accuracy: 0.9819 - val_loss: 0.9480 - val_accuracy: 0.7567\n",
            "Epoch 34/50\n",
            "43/43 [==============================] - 36s 846ms/step - loss: 0.0665 - accuracy: 0.9770 - val_loss: 0.9879 - val_accuracy: 0.7600\n",
            "Epoch 35/50\n",
            "43/43 [==============================] - 36s 847ms/step - loss: 0.0752 - accuracy: 0.9807 - val_loss: 0.9423 - val_accuracy: 0.7667\n",
            "Epoch 36/50\n",
            "43/43 [==============================] - 36s 847ms/step - loss: 0.0718 - accuracy: 0.9800 - val_loss: 0.9678 - val_accuracy: 0.7500\n",
            "Epoch 37/50\n",
            "43/43 [==============================] - 36s 848ms/step - loss: 0.0891 - accuracy: 0.9811 - val_loss: 0.9864 - val_accuracy: 0.7500\n",
            "Epoch 38/50\n",
            "43/43 [==============================] - 36s 847ms/step - loss: 0.0575 - accuracy: 0.9852 - val_loss: 0.9940 - val_accuracy: 0.7600\n",
            "Epoch 39/50\n",
            "43/43 [==============================] - 36s 845ms/step - loss: 0.0593 - accuracy: 0.9837 - val_loss: 1.0026 - val_accuracy: 0.7500\n",
            "Epoch 40/50\n",
            "43/43 [==============================] - 36s 845ms/step - loss: 0.0654 - accuracy: 0.9841 - val_loss: 0.9968 - val_accuracy: 0.7533\n",
            "Epoch 41/50\n",
            "43/43 [==============================] - 36s 846ms/step - loss: 0.0504 - accuracy: 0.9856 - val_loss: 0.9806 - val_accuracy: 0.7500\n",
            "Epoch 42/50\n",
            "43/43 [==============================] - 36s 845ms/step - loss: 0.0702 - accuracy: 0.9815 - val_loss: 0.9886 - val_accuracy: 0.7433\n",
            "Epoch 43/50\n",
            "43/43 [==============================] - 36s 845ms/step - loss: 0.0590 - accuracy: 0.9800 - val_loss: 0.9714 - val_accuracy: 0.7700\n",
            "Epoch 44/50\n",
            "43/43 [==============================] - 36s 847ms/step - loss: 0.0545 - accuracy: 0.9848 - val_loss: 0.9790 - val_accuracy: 0.7800\n",
            "Epoch 45/50\n",
            "43/43 [==============================] - 36s 846ms/step - loss: 0.0597 - accuracy: 0.9833 - val_loss: 1.0149 - val_accuracy: 0.7567\n",
            "Epoch 46/50\n",
            "43/43 [==============================] - 36s 847ms/step - loss: 0.0632 - accuracy: 0.9848 - val_loss: 1.0630 - val_accuracy: 0.7533\n",
            "Epoch 47/50\n",
            "43/43 [==============================] - 36s 847ms/step - loss: 0.0523 - accuracy: 0.9863 - val_loss: 1.0680 - val_accuracy: 0.7533\n",
            "Epoch 48/50\n",
            "43/43 [==============================] - 36s 845ms/step - loss: 0.0504 - accuracy: 0.9870 - val_loss: 1.0948 - val_accuracy: 0.7367\n",
            "Epoch 49/50\n",
            "43/43 [==============================] - 36s 846ms/step - loss: 0.0496 - accuracy: 0.9881 - val_loss: 1.0938 - val_accuracy: 0.7533\n",
            "Epoch 50/50\n",
            "43/43 [==============================] - 36s 844ms/step - loss: 0.0508 - accuracy: 0.9859 - val_loss: 1.0449 - val_accuracy: 0.7567\n"
          ]
        }
      ]
    },
    {
      "cell_type": "code",
      "metadata": {
        "colab": {
          "base_uri": "https://localhost:8080/",
          "height": 295
        },
        "id": "1PftT9MCNYqU",
        "outputId": "381547f6-8efa-4ff7-ece5-5cbfbd9c9063"
      },
      "source": [
        "#Accuracy\n",
        "plt.plot(ZFnet__history.history['accuracy'])\n",
        "plt.plot(ZFnet__history.history['val_accuracy'])\n",
        "plt.title('ZF Net model accuracy')\n",
        "plt.ylabel('accuracy')\n",
        "plt.xlabel('epoch')\n",
        "plt.legend(['train', 'validation'], loc='upper left')\n",
        "plt.savefig('ZF Net Model Accuracy')\n",
        "plt.show()"
      ],
      "execution_count": null,
      "outputs": [
        {
          "output_type": "display_data",
          "data": {
            "image/png": "[encoded data removed]",
            "text/plain": [
              "<Figure size 432x288 with 1 Axes>"
            ]
          },
          "metadata": {
            "needs_background": "light"
          }
        }
      ]
    },
    {
      "cell_type": "code",
      "metadata": {
        "colab": {
          "base_uri": "https://localhost:8080/",
          "height": 295
        },
        "id": "eIuSV8wNNOHF",
        "outputId": "f24f54c8-ac5d-4cb6-db43-c4ae8a7ef453"
      },
      "source": [
        "# \"Loss\"\n",
        "plt.plot(ZFnet__history.history['loss'])\n",
        "plt.plot(ZFnet__history.history['val_loss'])\n",
        "plt.title('ZF Net model loss')\n",
        "plt.ylabel('loss')\n",
        "plt.xlabel('epoch')\n",
        "plt.legend(['train', 'validation'], loc='upper left')\n",
        "plt.savefig('ZF Net Model Loss')\n",
        "plt.show()"
      ],
      "execution_count": null,
      "outputs": [
        {
          "output_type": "display_data",
          "data": {
            "image/png": "[encoded data removed]",
            "text/plain": [
              "<Figure size 432x288 with 1 Axes>"
            ]
          },
          "metadata": {
            "needs_background": "light"
          }
        }
      ]
    },
    {
      "cell_type": "markdown",
      "metadata": {
        "id": "AHFEQEHPjtq6"
      },
      "source": [
        "# New Section"
      ]
    },
    {
      "cell_type": "code",
      "metadata": {
        "colab": {
          "base_uri": "https://localhost:8080/",
          "height": 383
        },
        "id": "TaDtFlPpjuXK",
        "outputId": "df5d42d0-4ab9-4af4-afc8-36b911d110e4"
      },
      "source": [
        "labels = ['Simple Cnn', 'Lenet5', 'Alexnet','ZF Net', 'VGG16']\n",
        "training_accuracy = [0.844, 0.782, 0.993, 0.985 ,0.828]\n",
        "validation_accuracy = [0.720, 0.683, 0.833, 0.757, 0.760]\n",
        "\n",
        "x = np.arange(len(labels))  # the label locations\n",
        "width = 0.25  # the width of the bars\n",
        "plt.figure(figsize =(15,5), dpi= 80)\n",
        "# plot data in grouped manner of bar type\n",
        "plt.bar(x-0.2, training_accuracy, width, color='burlywood')\n",
        "plt.bar(x, validation_accuracy, width, color='slategrey')\n",
        "\n",
        "\n",
        "plt.title(\"Metrics scores of different classifiers\")\n",
        "plt.xticks(x+0.1, ['Simple Cnn', 'Lenet5', 'Alexnet','ZF Net', 'VGG16'])\n",
        "plt.xlabel(\"Cnn Architectures\")\n",
        "plt.ylabel(\"Trainning_validation Scores\")\n",
        "plt.legend([\"training_accuracy\", \"validation_accuracy\"],loc='upper right')\n",
        "plt.savefig(\"Scores of different architectures\")\n",
        "plt.show()"
      ],
      "execution_count": null,
      "outputs": [
        {
          "output_type": "display_data",
          "data": {
            "image/png": "[encoded data removed]",
            "text/plain": [
              "<Figure size 1200x400 with 1 Axes>"
            ]
          },
          "metadata": {
            "needs_background": "light"
          }
        }
      ]
    }
  ]
}